{
 "cells": [
  {
   "cell_type": "markdown",
   "metadata": {},
   "source": [
    "# PFE: Modeliranje i Identifikacija Procesa"
   ]
  },
  {
   "cell_type": "code",
   "execution_count": 14,
   "metadata": {},
   "outputs": [],
   "source": [
    "import numpy as np\n",
    "import matplotlib.pyplot as plt\n",
    "import control\n",
    "import warnings\n",
    "warnings.filterwarnings(\"ignore\")\n",
    "\n",
    "np.random.seed(420)"
   ]
  },
  {
   "cell_type": "markdown",
   "metadata": {},
   "source": [
    "### 1. Zadatak\n",
    "\n",
    "Modelirati transfer funkciju sistema čiji je odskočni odziv dat na slici:\n",
    "\n",
    "![Odziv](./src/odziv.png)\n",
    "\n",
    "> Koristiti funkcije ```control``` biblioteke\n",
    ">> [```control.TransferFunction```](https://python-control.readthedocs.io/en/latest/generated/control.TransferFunction.html) za generisanje prenoste funkcije\\\n",
    ">> [```control.step_response```](https://python-control.readthedocs.io/en/latest/generated/control.step_response.html) za generisanje odskočnog odziva date transfer funkcije"
   ]
  },
  {
   "cell_type": "code",
   "execution_count": 15,
   "metadata": {},
   "outputs": [
    {
     "data": {
      "text/plain": [
       "' Dodati kod '"
      ]
     },
     "execution_count": 15,
     "metadata": {},
     "output_type": "execute_result"
    }
   ],
   "source": [
    "\"\"\" Dodati kod \"\"\""
   ]
  },
  {
   "cell_type": "markdown",
   "metadata": {},
   "source": [
    "Uneti u sistem fazno kašnenje od $T = 2s$. Fazno kašnjenje nije moguće implementirati direktno, zato se koristi aproksimacija prenosne funkcije uz pomoć [```control.pade```](https://python-control.readthedocs.io/en/latest/generated/control.pade.html) metorda."
   ]
  },
  {
   "cell_type": "code",
   "execution_count": 16,
   "metadata": {},
   "outputs": [
    {
     "data": {
      "text/plain": [
       "' Dodati kod '"
      ]
     },
     "execution_count": 16,
     "metadata": {},
     "output_type": "execute_result"
    }
   ],
   "source": [
    "\"\"\" Dodati kod \"\"\""
   ]
  },
  {
   "cell_type": "markdown",
   "metadata": {},
   "source": [
    "Šta se dešava sa promenom reda polinoma estimacije eksponencijalne funkcije (previse veliki ili previse mali)? "
   ]
  },
  {
   "cell_type": "markdown",
   "metadata": {},
   "source": [
    "### 2. Zadatak\n",
    "\n",
    "Implementirati metodu ```arx_model``` koja računa odziv ARX sistema definisanog $A$ i $B$ vektorima. Funkcija takođe na ulazu prima pobudu u vidu niza. "
   ]
  },
  {
   "cell_type": "code",
   "execution_count": 17,
   "metadata": {},
   "outputs": [],
   "source": [
    "def arx_model(A, B, u):\n",
    "    \"\"\" Dodati kod \"\"\""
   ]
  },
  {
   "cell_type": "markdown",
   "metadata": {},
   "source": [
    "Koristeći implementiranu funkciju ```arx_model``` simulirati odskočni odziv ARX sistema sa parametrima $ A = [1, -0.9]^T $ i $B = [1]$"
   ]
  },
  {
   "cell_type": "code",
   "execution_count": 18,
   "metadata": {},
   "outputs": [
    {
     "data": {
      "text/plain": [
       "' Dodati kod '"
      ]
     },
     "execution_count": 18,
     "metadata": {},
     "output_type": "execute_result"
    }
   ],
   "source": [
    "\"\"\" Dodati kod \"\"\""
   ]
  },
  {
   "cell_type": "markdown",
   "metadata": {},
   "source": [
    "### 3. Zadatak\n",
    "\n",
    "Identifikofati parametre sistema čiji odziv je moguće dobiti funcijom ``` nepoznati_model() ```.\n",
    "\n",
    "Koristiti metodu najmanjih kvadrata:\n",
    "\n",
    "![Formula](./src/least_squares.png)\n",
    "\n",
    "Rešenje jednačine naći uz pomoć pseudo inverza: $\\theta = (X^T \\times X)^{-1} X^T \\times Y$\n",
    "\n",
    "**Note**: Unutar nepoznatog modela postoji šum"
   ]
  },
  {
   "cell_type": "code",
   "execution_count": 19,
   "metadata": {},
   "outputs": [],
   "source": [
    "from nepoznati_model import nepoznati_model"
   ]
  },
  {
   "cell_type": "code",
   "execution_count": 20,
   "metadata": {},
   "outputs": [
    {
     "data": {
      "text/plain": [
       "' Dodati kod '"
      ]
     },
     "execution_count": 20,
     "metadata": {},
     "output_type": "execute_result"
    }
   ],
   "source": [
    "\"\"\" Dodati kod \"\"\""
   ]
  },
  {
   "cell_type": "markdown",
   "metadata": {},
   "source": [
    "### 4. Zadatak\n",
    "\n",
    "Identifikovati parametre arx modela iz funkcije ```napoznati_model``` uz pomoć globalne optimizacije parametara.\n",
    "\n",
    "Koristiti diferencijalnu evoluciju iz ```scipy``` biblioteke.\n",
    "\n",
    "[```differential_evolution```](https://docs.scipy.org/doc/scipy/reference/generated/scipy.optimize.differential_evolution.html) je funkcija koja prima dva ulaza: **funkciju_cene** i **granice_parametara**.\n",
    "\n",
    "- Funkcija cene na ulazu treba da prima niz parametara modela, i da računa grešku u odnosu na odziv nepoznatog modela\n",
    "- Granice parametara je lista uređenih parova, gde svaki par predstavlja donju i gornju granicu parametra"
   ]
  },
  {
   "cell_type": "code",
   "execution_count": 21,
   "metadata": {},
   "outputs": [],
   "source": [
    "from scipy.optimize import differential_evolution"
   ]
  },
  {
   "cell_type": "code",
   "execution_count": 22,
   "metadata": {},
   "outputs": [
    {
     "data": {
      "text/plain": [
       "' Dodati kod '"
      ]
     },
     "execution_count": 22,
     "metadata": {},
     "output_type": "execute_result"
    }
   ],
   "source": [
    "\"\"\" Dodati kod \"\"\""
   ]
  },
  {
   "cell_type": "markdown",
   "metadata": {},
   "source": [
    "### 5. Globalna optimizacija za TF\n",
    "\n",
    "Koristiti globalnu optimizaciju za identifikaciju parametara transfer funkcije iz prvog zadatka.\n",
    "\n",
    "Šta se dešava ako loše pretpostavimo red modela?"
   ]
  },
  {
   "cell_type": "code",
   "execution_count": 23,
   "metadata": {},
   "outputs": [
    {
     "data": {
      "text/plain": [
       "' Dodati kod '"
      ]
     },
     "execution_count": 23,
     "metadata": {},
     "output_type": "execute_result"
    }
   ],
   "source": [
    "\"\"\" Dodati kod \"\"\""
   ]
  },
  {
   "cell_type": "markdown",
   "metadata": {},
   "source": [
    "### 6. Zadatak\n",
    "\n",
    "Iskoristiti višoslojnu regresorsku neuralnu mrežu ([```MLPRegressor```](https://scikit-learn.org/stable/modules/generated/sklearn.neural_network.MLPRegressor.html#sklearn.neural_network.MLPRegressor)) kao model procesa, zatim je istrenirati na izlazima nepoznatog modela. "
   ]
  },
  {
   "cell_type": "code",
   "execution_count": 24,
   "metadata": {},
   "outputs": [],
   "source": [
    "from sklearn.neural_network import MLPRegressor"
   ]
  },
  {
   "cell_type": "code",
   "execution_count": 25,
   "metadata": {},
   "outputs": [
    {
     "data": {
      "text/plain": [
       "' Dodati kod '"
      ]
     },
     "execution_count": 25,
     "metadata": {},
     "output_type": "execute_result"
    }
   ],
   "source": [
    "\"\"\" Dodati kod \"\"\""
   ]
  }
 ],
 "metadata": {
  "interpreter": {
   "hash": "e7370f93d1d0cde622a1f8e1c04877d8463912d04d973331ad4851f04de6915a"
  },
  "kernelspec": {
   "display_name": "Python 3.8.10 64-bit",
   "language": "python",
   "name": "python3"
  },
  "language_info": {
   "codemirror_mode": {
    "name": "ipython",
    "version": 3
   },
   "file_extension": ".py",
   "mimetype": "text/x-python",
   "name": "python",
   "nbconvert_exporter": "python",
   "pygments_lexer": "ipython3",
   "version": "3.8.10"
  },
  "orig_nbformat": 4
 },
 "nbformat": 4,
 "nbformat_minor": 2
}
