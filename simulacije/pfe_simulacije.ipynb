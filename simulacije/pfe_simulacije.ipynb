{
 "cells": [
  {
   "cell_type": "markdown",
   "metadata": {},
   "source": [
    "# PFE Simulacije"
   ]
  },
  {
   "cell_type": "code",
   "execution_count": null,
   "metadata": {},
   "outputs": [],
   "source": [
    "import numpy as np\n",
    "import matplotlib.pyplot as plt"
   ]
  },
  {
   "cell_type": "markdown",
   "metadata": {},
   "source": [
    "## 1. Prikazivanje grafika\n",
    "\n",
    "Generisati figuru od 3 subplota na kojima treba prikazati sledeće:\n",
    "\n",
    "1. Kvadratnu funkciju u rasponu $[-4, 4]$\n",
    "2. Na istom subplotu prikazati kosinusnu funkciju sa kružnim učestanostima od $\\omega_1 = 1$ i $\\omega_2 = 4$ u rasponu $[0, 10]$\n",
    "3. Na istom subplotu prikazati prigušenu oscilaciju frekvencije $\\omega = 20$ i sa koeficijentom prigušenja $\\gamma = 3$ u rasponu $[0, 2]$. Na istom subplotu prikazati i anvelope (eksponencijalne funkcije koje ograničavaju oscilacije sa obe strane) isprekidanom linijom."
   ]
  },
  {
   "cell_type": "code",
   "execution_count": null,
   "metadata": {},
   "outputs": [],
   "source": [
    "## Inicijalizacija subplotova\n",
    "fig, ax = plt.subplots(3, 1, figsize=(10, 10))\n",
    "\n",
    "## 1. Kvadratna funkcija\n",
    "\n",
    "# Definisanje x-ose\n",
    "x1 = \"\"\" DODAJ KOD \"\"\"\n",
    "\n",
    "# Definisanje y ose\n",
    "y1 = \"\"\" DODAJ KOD \"\"\"\n",
    "\n",
    "# Prikaz grafika\n",
    "ax[0].plot(x1, y1)\n",
    "ax[0].set_title(\"Kvadratna funkcija\")\n",
    "\n",
    "## 2. Kosinusna funkcija\n",
    "\n",
    "# Definisanje konstanti\n",
    "w1 = 1\n",
    "w2 = 4\n",
    "\n",
    "# Generisanje funkcija\n",
    "\n",
    "\"\"\"\n",
    "    DODAJ KOD\n",
    "\"\"\"\n",
    "\n",
    "# Prikaz grafika\n",
    "\n",
    "\"\"\"\n",
    "    DODAJ KOD\n",
    "\"\"\"\n",
    "\n",
    "ax[1].set_title(\"Kosinusne funkcije\")\n",
    "\n",
    "## 3. Prigušena oscilacija\n",
    "\n",
    "# Definicija konstanti\n",
    "w3 = 20\n",
    "gamma = 3\n",
    "\n",
    "# Generisanje funkcije\n",
    "\"\"\"\n",
    "    DODAJ KOD\n",
    "\"\"\"\n",
    "\n",
    "\n",
    "## Prikaz figure\n",
    "fig.tight_layout()\n",
    "plt.show()"
   ]
  },
  {
   "cell_type": "markdown",
   "metadata": {},
   "source": [
    "## 2. Analitička simulacija sistema: *Hlađenje tela*\n",
    "\n",
    "Homogeno telo temperature $T_0 = 50^\\circ$ uneto je u prostoriju temperature $T_{env} = 0^\\circ$. Prikazati kretanje temperature tela kroz vreme. Temperatura tela se menja po Njutnovom zakonu hlađenja:\n",
    "\n",
    "$$ \\frac{dT}{dt} = K(T_{env} - T) $$\n",
    "\n",
    "gde su:\n",
    "- $T$: trenutna temperatura tela\n",
    "- $T_{env}$: temperatura prostorije\n",
    "- $t$: vreme mereno od trenutka unošenja tela u prostoriju\n",
    "\n",
    "Za vrednost konstante uzeti $K = .1$ \n",
    "\n",
    "\n",
    "Kada će telo dostići temperaturu prostorije?"
   ]
  },
  {
   "cell_type": "code",
   "execution_count": null,
   "metadata": {},
   "outputs": [],
   "source": [
    "# Konstante\n",
    "T0 = 50\n",
    "K = .1\n",
    "\n",
    "# Inicijalizacija vremena\n",
    "t = \"\"\" DODAJ KOD \"\"\"\n",
    "\n",
    "# Računanje temperature\n",
    "T = \"\"\" DODAJ KOD \"\"\"\n",
    "\n",
    "# Prikaz grafika\n",
    "plt.plot(t, T)\n",
    "plt.title(\"Temperatura tela u zavisnosti od vremena\")\n",
    "plt.show()"
   ]
  },
  {
   "cell_type": "markdown",
   "metadata": {},
   "source": [
    "## 3. Implementacija Ojelrovog metoda\n",
    "\n",
    "Prikazati proces hladjenja tela iz prothodnog zadatka, računan Ojlerovim metodom.\n",
    "\n",
    "![Euler](./src/euler_flowchart.png)"
   ]
  },
  {
   "cell_type": "code",
   "execution_count": null,
   "metadata": {},
   "outputs": [],
   "source": [
    "# Konstante\n",
    "T0 = 50\n",
    "K = .1\n",
    "T_env = 0\n",
    "\n",
    "# Definisanje koraka simulacije\n",
    "dt = 60 / 1000\n",
    "\n",
    "# Inicijalizacija nizova simulacije\n",
    "t = np.arange(0, 60, dt)\n",
    "T_euler = np.zeros(len(t))\n",
    "T_euler[0] = T0\n",
    "\n",
    "for idx in range(1, len(T_euler)):\n",
    "\n",
    "    # Računanje izvoda\n",
    "    dTdt = \"\"\" DODAJ KOD \"\"\"\n",
    "\n",
    "    # Računanje nove vrednosti\n",
    "    T_euler[idx] = \"\"\" DODAJ KOD \"\"\"\n",
    "\n",
    "# Prikaz grafika\n",
    "plt.plot(t, T_euler)\n",
    "plt.title(\"Temperatura tela u zavisnosti od vremena (Ojlerov metod)\")\n",
    "plt.show()"
   ]
  },
  {
   "cell_type": "markdown",
   "metadata": {},
   "source": [
    "#### Da li se analitičko i numeričko rešenje razlikuju?"
   ]
  },
  {
   "cell_type": "code",
   "execution_count": null,
   "metadata": {},
   "outputs": [],
   "source": [
    "\"\"\" DODAJ KOD \"\"\""
   ]
  },
  {
   "cell_type": "markdown",
   "metadata": {},
   "source": [
    "#### Šta će se desiti ako je drugačija temperatura prostorije? Šta ako je drugačija početna temperatura?"
   ]
  },
  {
   "cell_type": "code",
   "execution_count": null,
   "metadata": {},
   "outputs": [],
   "source": [
    "\"\"\" DODAJ KOD \"\"\""
   ]
  },
  {
   "cell_type": "markdown",
   "metadata": {},
   "source": [
    "#### Nakon 20 sekundi u prostriji, telo je prebačeno u ključalu vodu. Kako će izgledati grafik temperature?"
   ]
  },
  {
   "cell_type": "code",
   "execution_count": null,
   "metadata": {},
   "outputs": [],
   "source": [
    "\"\"\" DODAJ KOD \"\"\""
   ]
  },
  {
   "cell_type": "markdown",
   "metadata": {},
   "source": [
    "## 4. Ojelrov metod, sistem II reda: *Linearni Oscilator*\n",
    "\n",
    "Simulirati sistem koji se sastoji od tela povezanog oprugom za zid i oslonjeno na glatku podlogu. Definisati sve sile koje deluju na telo i koristiti II Njutnov zakon. Telo je u početnom trenutku $5 cm$ od ravnotežnog položaja. Prikazati grafike brzine i pozicije tela.\n",
    "\n",
    "> $m = 100 g$\\\n",
    "> $k = 2 \\frac{N}{m}$\\\n",
    "> $x0 = 5 cm$\n",
    "\n",
    "**Podsetnik**: $ a = \\frac{dv}{dt} $, $ v = \\frac{dx}{dt} $"
   ]
  },
  {
   "cell_type": "code",
   "execution_count": null,
   "metadata": {},
   "outputs": [],
   "source": [
    "# Konstante\n",
    "k = 2\n",
    "m = .1\n",
    "x0 = 5e-2\n",
    "\n",
    "# Vreme\n",
    "\"\"\" DODAJ KOD \"\"\"\n",
    "\n",
    "# Inicijalizacija brzine i pozicije\n",
    "\"\"\" DODAJ KOD \"\"\"\n",
    "\n",
    "# Glavna petlja simulacije\n",
    "for idx in range(1, len(t)):\n",
    "\n",
    "    \"\"\" DODAJ KOD \"\"\"\n",
    "\n",
    "# Prikay krafika\n",
    "\"\"\" DODAJ KOD \"\"\"\n",
    "\n",
    "plt.show()"
   ]
  },
  {
   "cell_type": "markdown",
   "metadata": {},
   "source": [
    "**Šta ako postoji sila trenja? A sila otpora sredine ($F_{otp} = -bv$, $b = 0.1$)?**"
   ]
  },
  {
   "cell_type": "code",
   "execution_count": null,
   "metadata": {},
   "outputs": [],
   "source": [
    "\"\"\" DODAJ KOD \"\"\""
   ]
  },
  {
   "cell_type": "markdown",
   "metadata": {},
   "source": [
    "## 5. **odeint**: *Rešavanje prethodna dva zadatka*\n",
    "\n",
    "Definisati funkciju modela, a zatim simulirati prethodna dva zadatka."
   ]
  },
  {
   "cell_type": "code",
   "execution_count": null,
   "metadata": {},
   "outputs": [],
   "source": [
    "from scipy.integrate import odeint"
   ]
  },
  {
   "cell_type": "markdown",
   "metadata": {},
   "source": [
    "### a) Hlađenje tela"
   ]
  },
  {
   "cell_type": "code",
   "execution_count": null,
   "metadata": {},
   "outputs": [],
   "source": [
    "# Konstante\n",
    "T0 = 50\n",
    "K = .1\n",
    "T_env = 0\n",
    "\n",
    "def model_hladjenja(T, t):\n",
    "    \"\"\" DODAJ KOD \"\"\"\n",
    "\n",
    "# Vreme\n",
    "t = np.linspace(0, 60, 1000)\n",
    "\n",
    "# Primena Ojlerovog metoda\n",
    "\"\"\" DODAJ KOD \"\"\"\n",
    "\n",
    "# Prikaz\n",
    "plt.plot(t, T)\n"
   ]
  },
  {
   "cell_type": "markdown",
   "metadata": {},
   "source": [
    "### b) Oscilator"
   ]
  },
  {
   "cell_type": "code",
   "execution_count": null,
   "metadata": {},
   "outputs": [],
   "source": [
    "# Konstante\n",
    "k = 2\n",
    "m = .1\n",
    "x0 = 5e-2\n",
    "\n",
    "def model_oscilator(state, t):\n",
    "\"\"\" DODAJ KOD \"\"\"\n",
    "\n",
    "# Simulacija\n",
    "\"\"\" DODAJ KOD \"\"\""
   ]
  },
  {
   "cell_type": "markdown",
   "metadata": {},
   "source": [
    "## Zadaci"
   ]
  },
  {
   "cell_type": "markdown",
   "metadata": {},
   "source": [
    "### 1. DC motor\n",
    "\n",
    "Simulirati kretanje DC motora čija je šema data na slici. Kontrolisati motor ulaznim naponom $U_r$. Elektronski deo motora se sastoji od RL kola, i dodatne indukovane elektromotorne sile koja zavisi od brzine motora $U_{me} = K_{me} \\omega_m(t)$. Na motoru se nalazu opterećenje vrednost $M_{otp}$, i tokom okretanja motora na rotaciju utiče i moment viskoznog trenja $M_{tr} = F_e \\omega(t)$. Slika motora data je u nastavku:\n",
    "\n",
    "![DCMotor](./src/dc_motor.png)\n",
    "\n",
    "> Vrednosti konstanti su:\\\n"
   ]
  },
  {
   "cell_type": "code",
   "execution_count": null,
   "metadata": {},
   "outputs": [],
   "source": []
  },
  {
   "cell_type": "markdown",
   "metadata": {},
   "source": [
    "### 2. Ball&Tube\n",
    "\n",
    "Sistem se sastoji od šuplje cevi dužine $1 m$, unutar koje se nalazi loptica. Na dnu cevi postoji ventilator kojim je moguće pomerati lopticu na više.\n",
    "Upravljanje sistemom se vrši menjanjem napona motora. Sila kojom motor deluje na lopticu je linearno zavisna od visine na kojoj je loptica.\n",
    "Simulirati ovakav sistem za konstantan i sinusni ulaz napona.\n",
    "\n",
    "Da li je moguće promenljivim naponom održati lotpicu u sredini cevi?\n",
    "\n",
    "> Ulazni napon je ograničen na raspon $[0, 5]$\\\n",
    "> Sila koju motor stvaruje je funkcija napona: $F_{motor} = K_{me}U$\\\n",
    "> Ostvarena sila na loptici zavisi od visine i sile motora: $F_{lopt} = kF_{motor}$\n",
    "\n",
    "> Vrednosti konstanti su:\\\n",
    "> "
   ]
  },
  {
   "cell_type": "code",
   "execution_count": null,
   "metadata": {},
   "outputs": [],
   "source": []
  }
 ],
 "metadata": {
  "interpreter": {
   "hash": "e7370f93d1d0cde622a1f8e1c04877d8463912d04d973331ad4851f04de6915a"
  },
  "kernelspec": {
   "display_name": "Python 3.8.10 64-bit",
   "language": "python",
   "name": "python3"
  },
  "language_info": {
   "codemirror_mode": {
    "name": "ipython",
    "version": 3
   },
   "file_extension": ".py",
   "mimetype": "text/x-python",
   "name": "python",
   "nbconvert_exporter": "python",
   "pygments_lexer": "ipython3",
   "version": "3.8.10"
  },
  "orig_nbformat": 4
 },
 "nbformat": 4,
 "nbformat_minor": 2
}
